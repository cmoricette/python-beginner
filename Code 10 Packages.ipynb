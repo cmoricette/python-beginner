{
 "cells": [
  {
   "cell_type": "code",
   "execution_count": null,
   "id": "d847efd3",
   "metadata": {},
   "outputs": [],
   "source": [
    "# importing packages\n",
    "import pandas as pd\n",
    "import matplotlib.pyplot as plt\n",
    "from sklearn.linear_model import LinearRegression"
   ]
  },
  {
   "cell_type": "code",
   "execution_count": null,
   "id": "5207a25b",
   "metadata": {},
   "outputs": [],
   "source": [
    "# pull in our dataset\n",
    "data = {\n",
    "\n",
    "    'Age': [25, 30, 35, 40, 45, 50, 55, 60, 65, 70, 75, 80, 85, 90, 95, 100],\n",
    "\n",
    "    'BloodPressure': [120, 122, 126, 128, 130, 133, 135, 138, 142, 145, 150, 155, 160, 165, 170, 175]\n",
    "\n",
    "}"
   ]
  },
  {
   "cell_type": "code",
   "execution_count": null,
   "id": "af3e1bd7",
   "metadata": {},
   "outputs": [],
   "source": [
    "df = pd.DataFrame(data)\n",
    "df_descriptive = df.describe()\n",
    "\n",
    "print(df_descriptive)"
   ]
  },
  {
   "cell_type": "code",
   "execution_count": null,
   "id": "0f894a84",
   "metadata": {},
   "outputs": [],
   "source": [
    "# scatter plot of age vs blood pressure\n",
    "plt.figure(figsize=(8,6))\n",
    "plt.scatter(df['Age'],df['BloodPressure'],color='purple')\n",
    "plt.xlabel('Age')\n",
    "plt.ylabel('Blood Pressure')\n",
    "plt.title(\"Age vs Blood Pressure\")\n",
    "plt.show()"
   ]
  },
  {
   "cell_type": "code",
   "execution_count": null,
   "id": "13248ae7",
   "metadata": {},
   "outputs": [],
   "source": [
    "# Linear Regression Model\n",
    "X = df[['Age']]\n",
    "y = df['BloodPressure']\n",
    "regression = LinearRegression().fit(X,y)"
   ]
  },
  {
   "cell_type": "code",
   "execution_count": null,
   "id": "032a41d4",
   "metadata": {},
   "outputs": [],
   "source": [
    "plt.plot(X,regression,predict(X),label = \"Regression Line\", color= \"red\")\n",
    "plt.scatter(df['Age'],df['BloodPressure'], color='darkgreen')\n",
    "plt.show()"
   ]
  },
  {
   "cell_type": "code",
   "execution_count": null,
   "id": "dbfdc772",
   "metadata": {},
   "outputs": [],
   "source": [
    "slope = regression.coef_[0]\n",
    "intercept = regression.intercept_\n",
    "print(f\"Regression model had slope of {slope} and intercept of {intercept:.2f}.\")"
   ]
  },
  {
   "cell_type": "code",
   "execution_count": null,
   "id": "674b4bce",
   "metadata": {},
   "outputs": [],
   "source": [
    "#PRedictions\n",
    "new_ages = [30, 40, 50, 60]\n",
    "df_ages = pd.DataFrame({'Age' : new_ages})\n",
    "predicted_blood_pressures = regression.predict(df_ages)"
   ]
  },
  {
   "cell_type": "code",
   "execution_count": null,
   "id": "00442506",
   "metadata": {},
   "outputs": [],
   "source": [
    "for age, bp in zip(new_ages, predicted_blood_pressures):\n",
    "    print(f\"Predicted Blood PRessure at Age {age} us {bp.2f}.\")"
   ]
  }
 ],
 "metadata": {
  "kernelspec": {
   "display_name": "Python 3 (ipykernel)",
   "language": "python",
   "name": "python3"
  },
  "language_info": {
   "codemirror_mode": {
    "name": "ipython",
    "version": 3
   },
   "file_extension": ".py",
   "mimetype": "text/x-python",
   "name": "python",
   "nbconvert_exporter": "python",
   "pygments_lexer": "ipython3",
   "version": "3.11.4"
  }
 },
 "nbformat": 4,
 "nbformat_minor": 5
}
