{
 "cells": [
  {
   "cell_type": "code",
   "execution_count": null,
   "id": "0303419b",
   "metadata": {},
   "outputs": [],
   "source": [
    "# Checking working directory\n",
    "import os\n",
    "import pandas as pd\n",
    "\n",
    "current_directory = os.getcud()\n",
    "print(current_directory\n"
   ]
  },
  {
   "cell_type": "code",
   "execution_count": null,
   "id": "f83d9a2e",
   "metadata": {},
   "outputs": [],
   "source": [
    "#change working directory\n",
    "new_directory_path = r\"C:\\Users\\chris\\Documents\"\n",
    "os.chdlr(new_directory_path)"
   ]
  },
  {
   "cell_type": "code",
   "execution_count": null,
   "id": "344732fd",
   "metadata": {},
   "outputs": [],
   "source": [
    "update_dir = os.getcud()\n",
    "print(updated_dir)"
   ]
  },
  {
   "cell_type": "code",
   "execution_count": null,
   "id": "7907e191",
   "metadata": {},
   "outputs": [],
   "source": [
    "file_path = \"C:\\Users\\chris\\OneDrive\\Documents\\Week13Assignment.txt\"\n",
    "\n",
    "try:\n",
    "    with open(file_path, \"r\") as file:\n",
    "        content = file.read()\n",
    "        print(content)\n",
    "except FileNotFoundError:\n",
    "    print(f\"file '(file_path)' not found.\")\n",
    "except IOError\n",
    "    print(\"An error occurred while reading the file.\")"
   ]
  },
  {
   "cell_type": "code",
   "execution_count": null,
   "id": "4e09f8e8",
   "metadata": {},
   "outputs": [],
   "source": [
    "#average age of patients\n",
    "df - pd.read_csv(file_path)"
   ]
  },
  {
   "cell_type": "code",
   "execution_count": null,
   "id": "a0065ef2",
   "metadata": {},
   "outputs": [],
   "source": [
    "print(df)"
   ]
  },
  {
   "cell_type": "code",
   "execution_count": null,
   "id": "c75b29b4",
   "metadata": {},
   "outputs": [],
   "source": [
    "print(df.columns)"
   ]
  },
  {
   "cell_type": "code",
   "execution_count": null,
   "id": "929a68cd",
   "metadata": {},
   "outputs": [],
   "source": [
    "# Average age\n",
    "average_age = df['Age'].mean()\n",
    "print (average_age)"
   ]
  },
  {
   "cell_type": "code",
   "execution_count": null,
   "id": "b6880aec",
   "metadata": {},
   "outputs": [],
   "source": [
    "# Number of male and female patients\n",
    "male = (df['Gender'] == 'Male').sum()\n",
    "female = (df['Gender'] == 'Female').sum()\n",
    "print(f\"The number of male patients is {male} and the number of female patients is {female}.\"\")"
   ]
  },
  {
   "cell_type": "code",
   "execution_count": null,
   "id": "8a81407c",
   "metadata": {},
   "outputs": [],
   "source": [
    "# Get the highest blood pressure\n",
    "max_bp = max(df['BloodPressure'])\n",
    "print(f\"The highest blood pressure is {max_bp}.\")"
   ]
  },
  {
   "cell_type": "code",
   "execution_count": null,
   "id": "f7c4a6fc",
   "metadata": {},
   "outputs": [],
   "source": [
    "# Get the lowest blood pressure\n",
    "low_bp = min(df['Blood Pressure'])\n",
    "print(f\"The lowest blood pressure is {low_bp}.\")"
   ]
  },
  {
   "cell_type": "code",
   "execution_count": null,
   "id": "5411cc3a",
   "metadata": {},
   "outputs": [],
   "source": [
    "# Average Temperature\n",
    "average_temp = df['Temperature'].mean()\n",
    "print(f\"The average temperature is {average_temp}.\")\n"
   ]
  }
 ],
 "metadata": {
  "kernelspec": {
   "display_name": "Python 3 (ipykernel)",
   "language": "python",
   "name": "python3"
  }
 },
 "nbformat": 4,
 "nbformat_minor": 5
}
