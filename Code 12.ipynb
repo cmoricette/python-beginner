{
 "cells": [
  {
   "cell_type": "code",
   "execution_count": null,
   "id": "bf0216eb",
   "metadata": {},
   "outputs": [],
   "source": [
    "# Importing\n",
    "import pandas as pd\n",
    "import numpy as np\n",
    "import os\n",
    "import matplotlib as plt\n",
    "from matplotlib.pyplot import boxplot\n",
    "import sklearn.linear_model import LogisticRegression\n"
   ]
  },
  {
   "cell_type": "code",
   "execution_count": null,
   "id": "5b43afcf",
   "metadata": {},
   "outputs": [],
   "source": [
    "current_directory = os.getcwd()\n",
    "print(current_directory)\n",
    "\n",
    "C:\\Users\\moric\\Downloads"
   ]
  },
  {
   "cell_type": "code",
   "execution_count": null,
   "id": "efd51946",
   "metadata": {},
   "outputs": [],
   "source": [
    "filepath = 'Week14Assignment.txt'\n",
    "df = pd.read_csv(filepath)"
   ]
  },
  {
   "cell_type": "code",
   "execution_count": null,
   "id": "96a0aacd",
   "metadata": {},
   "outputs": [],
   "source": [
    "print(df)"
   ]
  },
  {
   "cell_type": "code",
   "execution_count": null,
   "id": "3ecee869",
   "metadata": {},
   "outputs": [],
   "source": [
    "# Calculating Statistics\n",
    "num_readmitted = np.sum(df[' Readmission'])\n",
    "satisfaction_staff = np.mean(df[' StaffSatisfaction'])\n",
    "satisfaction_cleanliness = np.mean(df[' CleanlinessSatisfaction'])\n",
    "satisfaction_food = np.mean(df[' FoodSatisfaction'])\n",
    "satisfaction_comfort = np.mean(df[' ComfortSatisfaction'])\n",
    "satisfaction_communication = np.mean(df[' CommunicationSatisfaction'])"
   ]
  },
  {
   "cell_type": "code",
   "execution_count": null,
   "id": "2d303321",
   "metadata": {},
   "outputs": [],
   "source": [
    "# Print out descriptive Statisitcs\n",
    "print(f\"Number of patients readmitted: {num_readmitted}.\")\n",
    "print(f\"Average staff satisifaction: {satisfaction_staff}.\"\n",
    "print(f\"Average cleanliness satisfaction: {satisfaction_cleanliness}.\")\n",
    "print(f\"Average food satisifaction: {satisfaction_food}.\")\n",
    "print(f\"Average comfort satisifaction: {satisfaction_comfort}.\")\n",
    "print(f\"Average communication satisifaction: {satisfaction_communication}.\")"
   ]
  },
  {
   "cell_type": "code",
   "execution_count": null,
   "id": "9cdf4475",
   "metadata": {},
   "outputs": [],
   "source": [
    "# Calculate overall satisfaction\n",
    "data['OverallSatisfaction'] = df[[' StaffSatisfaction', ' CleanlinessSatisfaction', ' FoodSatisfaction',' ComfortSatisfaction',' CommunicationSatisfaction']].mean(axis=1)\n",
    "boxplot(data['OverallSatisfaction'], showfliers = True)"
   ]
  },
  {
   "cell_type": "code",
   "execution_count": null,
   "id": "ffa10875",
   "metadata": {},
   "outputs": [],
   "source": [
    "# Logistic Regression model\n",
    "x = df['OverallSatisfaction'].values.reshape(-1,1)\n",
    "y = df['Readmission']\n",
    "\n",
    "log_reg = LogisticRegression().fit(X, Y)"
   ]
  },
  {
   "cell_type": "code",
   "execution_count": null,
   "id": "dfdf707f",
   "metadata": {},
   "outputs": [],
   "source": [
    "# Correlation results\n",
    "correlation_coefficient = log_reg.coefi_[0][0]\n",
    "\n",
    "if correlation_coefficient > 0: \n",
    "    print(\"Logistic regression results indicated a: \")\n",
    "    if correlation_coefficent > 0.5:\n",
    "        print(\"Moderation correlation.\")\n",
    "    elif correlation_coefficent > 0.7:\n",
    "        print(\"Strong Correlation\")\n",
    "    else:\n",
    "        print(\"Weak Correlation\")\n",
    "\n",
    "else:\n",
    "    print(\"Logistic regression results indicated: \")\n",
    "    print(\"No Correlation\")\n",
    "\n",
    "    print(f\"The correlation coefficient was {correlation_coefficient}\")"
   ]
  },
  {
   "cell_type": "code",
   "execution_count": null,
   "id": "54d631c7",
   "metadata": {},
   "outputs": [],
   "source": [
    "# plot the data\n",
    "plt.pyplot.scatter(X,Y)\n",
    "plt.pyplot.xlabel('Overall Satisfaction Scores')\n",
    "plt.pyplot.title('Logisitic Regression - OVerall Satisfaction vs Readmission')\n",
    "plt.pyplot.plot(X, log_red.predict(X), color = 'blue')\n",
    "plt.pyplot.xlim(2,5)"
   ]
  }
 ],
 "metadata": {
  "kernelspec": {
   "display_name": "Python 3 (ipykernel)",
   "language": "python",
   "name": "python3"
  },
  "language_info": {
   "codemirror_mode": {
    "name": "ipython",
    "version": 3
   },
   "file_extension": ".py",
   "mimetype": "text/x-python",
   "name": "python",
   "nbconvert_exporter": "python",
   "pygments_lexer": "ipython3",
   "version": "3.11.4"
  }
 },
 "nbformat": 4,
 "nbformat_minor": 5
}
