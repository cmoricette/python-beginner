{
 "cells": [
  {
   "cell_type": "code",
   "execution_count": null,
   "id": "53daa5b2",
   "metadata": {},
   "outputs": [],
   "source": [
    "# problem 1\n",
    "name = input(\"Enter your name: \")\n",
    "print(f\"Hello, {name}! Nice to meet you.\")\n",
    "print(\"Hello, \" + name + \"! Nice to meet you.\")"
   ]
  },
  {
   "cell_type": "code",
   "execution_count": null,
   "id": "6bbadee9",
   "metadata": {},
   "outputs": [],
   "source": [
    "# problem 2\n",
    "word = input(\"Enter a word: \")\n",
    "reversed_word = word[: :-1]\n",
    "print(f\"Reversed word: {reversed_word}.\")"
   ]
  },
  {
   "cell_type": "code",
   "execution_count": null,
   "id": "f6994e6b",
   "metadata": {},
   "outputs": [],
   "source": [
    "# problem 3\n",
    "sentence = input(\"Enter a sentence: \")\n",
    "char_count = len(sentence)\n",
    "print(f\"This sentence has {char_count} characters.\")\n"
   ]
  },
  {
   "cell_type": "code",
   "execution_count": null,
   "id": "802d6ef4",
   "metadata": {},
   "outputs": [],
   "source": [
    "# problem 4\n",
    "string = input(\"Enter a word or a sentence: \")\n",
    "\n",
    "string_lower = string.lower()\n",
    "a_count = string_lower.count('a')\n",
    "e_count = string_lower.count('e')\n",
    "i_count = string_lower.count('i')\n",
    "o_count = string_lower.count('o')\n",
    "u_count = string_lower.count('u')\n",
    "\n",
    "vowel_count = a_count + e_count + i_count + o_count + u_count\n",
    "\n",
    "print(f\"Number of vowels is {vowel_count}.)"
   ]
  },
  {
   "cell_type": "code",
   "execution_count": null,
   "id": "fc118423",
   "metadata": {},
   "outputs": [],
   "source": [
    "# problem 5\n",
    "word_to_check = input(\"Enter a word: \")\n",
    "word_palindrome = word_to_check.upper()\n",
    "\n",
    "if word_palindrome == word_palindrome[::-1]:\n",
    "    print(f\"This word is a palindrome.\")\n",
    "else:\n",
    "    print(f\"This word is not a palindrome.\")"
   ]
  },
  {
   "cell_type": "code",
   "execution_count": null,
   "id": "7a4b5686",
   "metadata": {},
   "outputs": [],
   "source": [
    "# problem 6\n",
    "secret_message = input(\"Enter your secret message: \")\n",
    "encrypted = secret_message.upper().replace(\" \", \"_\")\n",
    "print(f\"Encrypted secret message: {encrypted}.\")"
   ]
  }
 ],
 "metadata": {
  "kernelspec": {
   "display_name": "Python 3 (ipykernel)",
   "language": "python",
   "name": "python3"
  }
 },
 "nbformat": 4,
 "nbformat_minor": 5
}
