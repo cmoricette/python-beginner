{
 "cells": [
  {
   "cell_type": "code",
   "execution_count": 1,
   "id": "f69765a1",
   "metadata": {},
   "outputs": [],
   "source": [
    "def calculate_sample_size(population_size, confidence_level, margin_of_error):\n",
    "    if confidence_level == 90:\n",
    "        z_score = 1.64\n",
    "    elif confidence_level == 95:\n",
    "        z_score = 1.96\n",
    "    elif confidence_level == 99:\n",
    "        z_score = 2.58\n",
    "    else:\n",
    "        print(\"Unsupported confidence level, Please input a value of 90, 95, or 99.\")\n",
    "        return None\n",
    "    \n",
    "    # Specificy the unknown proportion value\n",
    "    p = 0.5 \n",
    "    \n",
    "    # Perform the calculation\n",
    "    sample_size = ((z_score * z_score * p *(1-p)) / (margin_of_error * margin_of_error))\n",
    "    return int(sample_size)"
   ]
  },
  {
   "cell_type": "code",
   "execution_count": 2,
   "id": "522607bd",
   "metadata": {},
   "outputs": [],
   "source": [
    "def systematic_sample(population, sample_size):\n",
    "    interval = len(population) / sample_size\n",
    "    interval = round(interval)\n",
    "    \n",
    "    selected_elements = []\n",
    "    \n",
    "    for i in range(0, len(population), interval):\n",
    "        selected_elements.append(population[i])\n",
    "    return selected_elements"
   ]
  },
  {
   "cell_type": "code",
   "execution_count": 3,
   "id": "02b487f8",
   "metadata": {},
   "outputs": [
    {
     "name": "stdout",
     "output_type": "stream",
     "text": [
      "Enter the population size: 1680000\n",
      "Enter the confidence level, ex 90, 95, or 99: 90\n",
      "Enter the desired margin of error, ex 0.05, 0.10: 0.05\n",
      "The calculated sample size was approximately 268\n",
      "Enter your desired sample size: 400\n",
      "The following elements were selected by systematic random sample: \n",
      "[1, 6270, 12539, 18808, 25077, 31346, 37615, 43884, 50153, 56422, 62691, 68960, 75229, 81498, 87767, 94036, 100305, 106574, 112843, 119112, 125381, 131650, 137919, 144188, 150457, 156726, 162995, 169264, 175533, 181802, 188071, 194340, 200609, 206878, 213147, 219416, 225685, 231954, 238223, 244492, 250761, 257030, 263299, 269568, 275837, 282106, 288375, 294644, 300913, 307182, 313451, 319720, 325989, 332258, 338527, 344796, 351065, 357334, 363603, 369872, 376141, 382410, 388679, 394948, 401217, 407486, 413755, 420024, 426293, 432562, 438831, 445100, 451369, 457638, 463907, 470176, 476445, 482714, 488983, 495252, 501521, 507790, 514059, 520328, 526597, 532866, 539135, 545404, 551673, 557942, 564211, 570480, 576749, 583018, 589287, 595556, 601825, 608094, 614363, 620632, 626901, 633170, 639439, 645708, 651977, 658246, 664515, 670784, 677053, 683322, 689591, 695860, 702129, 708398, 714667, 720936, 727205, 733474, 739743, 746012, 752281, 758550, 764819, 771088, 777357, 783626, 789895, 796164, 802433, 808702, 814971, 821240, 827509, 833778, 840047, 846316, 852585, 858854, 865123, 871392, 877661, 883930, 890199, 896468, 902737, 909006, 915275, 921544, 927813, 934082, 940351, 946620, 952889, 959158, 965427, 971696, 977965, 984234, 990503, 996772, 1003041, 1009310, 1015579, 1021848, 1028117, 1034386, 1040655, 1046924, 1053193, 1059462, 1065731, 1072000, 1078269, 1084538, 1090807, 1097076, 1103345, 1109614, 1115883, 1122152, 1128421, 1134690, 1140959, 1147228, 1153497, 1159766, 1166035, 1172304, 1178573, 1184842, 1191111, 1197380, 1203649, 1209918, 1216187, 1222456, 1228725, 1234994, 1241263, 1247532, 1253801, 1260070, 1266339, 1272608, 1278877, 1285146, 1291415, 1297684, 1303953, 1310222, 1316491, 1322760, 1329029, 1335298, 1341567, 1347836, 1354105, 1360374, 1366643, 1372912, 1379181, 1385450, 1391719, 1397988, 1404257, 1410526, 1416795, 1423064, 1429333, 1435602, 1441871, 1448140, 1454409, 1460678, 1466947, 1473216, 1479485, 1485754, 1492023, 1498292, 1504561, 1510830, 1517099, 1523368, 1529637, 1535906, 1542175, 1548444, 1554713, 1560982, 1567251, 1573520, 1579789, 1586058, 1592327, 1598596, 1604865, 1611134, 1617403, 1623672, 1629941, 1636210, 1642479, 1648748, 1655017, 1661286, 1667555, 1673824]\n"
     ]
    }
   ],
   "source": [
    "# Getting user input\n",
    "population_size = int(input(\"Enter the population size: \"))\n",
    "confidence_level = int(input(\"Enter the confidence level, ex 90, 95, or 99: \"))\n",
    "margin_of_error = float(input(\"Enter the desired margin of error, ex 0.05, 0.10: \"))\n",
    "\n",
    "sample_size = calculate_sample_size(population_size, confidence_level, margin_of_error)\n",
    "\n",
    "print(f\"The calculated sample size was approximately {sample_size}\")\n",
    "\n",
    "user_sample_size = int(input(\"Enter your desired sample size: \"))\n",
    "\n",
    "maximum_sample_size = calculate_sample_size(population_size, 99, 0.01)\n",
    "\n",
    "if user_sample_size > maximum_sample_size:\n",
    "    print(\"Sorry, the request sample size is most likely not feasible, please enter a lower value.\")\n",
    "    \n",
    "else:\n",
    "    systematic_sample = systematic_sample(list(range(1,population_size + 1)), sample_size)\n",
    "    \n",
    "print(\"The following elements were selected by systematic random sample: \")\n",
    "print(systematic_sample)"
   ]
  },
  {
   "cell_type": "code",
   "execution_count": null,
   "id": "b422572a",
   "metadata": {},
   "outputs": [],
   "source": []
  }
 ],
 "metadata": {
  "kernelspec": {
   "display_name": "Python 3 (ipykernel)",
   "language": "python",
   "name": "python3"
  },
  "language_info": {
   "codemirror_mode": {
    "name": "ipython",
    "version": 3
   },
   "file_extension": ".py",
   "mimetype": "text/x-python",
   "name": "python",
   "nbconvert_exporter": "python",
   "pygments_lexer": "ipython3",
   "version": "3.11.4"
  }
 },
 "nbformat": 4,
 "nbformat_minor": 5
}
