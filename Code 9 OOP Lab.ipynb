{
 "cells": [
  {
   "cell_type": "code",
   "execution_count": 1,
   "id": "0ca19a53",
   "metadata": {},
   "outputs": [],
   "source": [
    "# Defining Class\n",
    "class Patients: \n",
    "    def _init_(self, name, age, gender, blood_pressure, temperature):\n",
    "        self.name = name\n",
    "        self.age = age\n",
    "        self.gender = gender\n",
    "        self.blood_pressure = blood_pressure\n",
    "        self.temperature = temperature\n",
    "        \n",
    "    def display_patient_info(self):\n",
    "        print(f\"Name: {self.name}\\nAge: {self.age}\\nGender: {self.gender}\\nBlood Pressure: {self.blood_pressure[0]} / {self.blood_pressure[1]}/nTemperature: {self.temperature}\")\n",
    "        \n",
    "    def is_hypertensive(self):\n",
    "        systolic, diastolic = self.blood_pressure\n",
    "        return systolic >= 140 or diastolic >= 90 \n",
    "    \n",
    "    def is_feverish(self):\n",
    "        return self.temperature >= 37.5\n",
    "              "
   ]
  },
  {
   "cell_type": "code",
   "execution_count": 3,
   "id": "2d9ace10",
   "metadata": {},
   "outputs": [
    {
     "ename": "TypeError",
     "evalue": "Patients() takes no arguments",
     "output_type": "error",
     "traceback": [
      "\u001b[1;31m---------------------------------------------------------------------------\u001b[0m",
      "\u001b[1;31mTypeError\u001b[0m                                 Traceback (most recent call last)",
      "Cell \u001b[1;32mIn[3], line 2\u001b[0m\n\u001b[0;32m      1\u001b[0m \u001b[38;5;66;03m# Defining Data\u001b[39;00m\n\u001b[1;32m----> 2\u001b[0m patient1 \u001b[38;5;241m=\u001b[39m Patients(\u001b[38;5;124m\"\u001b[39m\u001b[38;5;124mJohn Doe\u001b[39m\u001b[38;5;124m\"\u001b[39m, \u001b[38;5;241m45\u001b[39m, \u001b[38;5;124m\"\u001b[39m\u001b[38;5;124mMale\u001b[39m\u001b[38;5;124m\"\u001b[39m, (\u001b[38;5;241m140\u001b[39m, \u001b[38;5;241m85\u001b[39m), \u001b[38;5;241m36.8\u001b[39m)\n\u001b[0;32m      3\u001b[0m patient2 \u001b[38;5;241m=\u001b[39m Patients(\u001b[38;5;124m\"\u001b[39m\u001b[38;5;124mJane Smith\u001b[39m\u001b[38;5;124m\"\u001b[39m, \u001b[38;5;241m32\u001b[39m, \u001b[38;5;124m\"\u001b[39m\u001b[38;5;124mFemale\u001b[39m\u001b[38;5;124m\"\u001b[39m, (\u001b[38;5;241m130\u001b[39m, \u001b[38;5;241m88\u001b[39m), \u001b[38;5;241m37.6\u001b[39m)\n",
      "\u001b[1;31mTypeError\u001b[0m: Patients() takes no arguments"
     ]
    }
   ],
   "source": [
    "# Defining Data\n",
    "patient1 = Patients(\"John Doe\", 45, \"Male\", (140, 85), 36.8)\n",
    "patient2 = Patients(\"Jane Smith\", 32, \"Female\", (130, 88), 37.6)"
   ]
  },
  {
   "cell_type": "code",
   "execution_count": null,
   "id": "883a21b6",
   "metadata": {},
   "outputs": [],
   "source": [
    "# Display the Patient Information\n",
    "patient1.display_patient_info()\n",
    "patient2.display_patient_info()"
   ]
  },
  {
   "cell_type": "code",
   "execution_count": null,
   "id": "3988e05c",
   "metadata": {},
   "outputs": [],
   "source": [
    "# Checking for Hypertension\n",
    "patient1.is_hypertensive()\n",
    "patient2.is_hypertensive()"
   ]
  },
  {
   "cell_type": "code",
   "execution_count": null,
   "id": "9fab6d6c",
   "metadata": {},
   "outputs": [],
   "source": [
    "# Checking for fever\n",
    "patient1.is_feverish()\n",
    "patient2.is_feverish()"
   ]
  }
 ],
 "metadata": {
  "kernelspec": {
   "display_name": "Python 3 (ipykernel)",
   "language": "python",
   "name": "python3"
  },
  "language_info": {
   "codemirror_mode": {
    "name": "ipython",
    "version": 3
   },
   "file_extension": ".py",
   "mimetype": "text/x-python",
   "name": "python",
   "nbconvert_exporter": "python",
   "pygments_lexer": "ipython3",
   "version": "3.11.4"
  }
 },
 "nbformat": 4,
 "nbformat_minor": 5
}
