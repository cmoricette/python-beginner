{
 "cells": [
  {
   "cell_type": "code",
   "execution_count": null,
   "id": "343d120e",
   "metadata": {},
   "outputs": [],
   "source": [
    "# celsius to farhenheit\n",
    "def celsius_to_farhenheit(celsius):\n",
    "    return (celsius * 9/5) + 32\n",
    "\n",
    "# fahrenheit to celsius\n",
    "def farhenheit_to_celsius(fahrenheit):\n",
    "    return (farhenheit - 32) * 5/9"
   ]
  },
  {
   "cell_type": "code",
   "execution_count": null,
   "id": "4160b64f",
   "metadata": {},
   "outputs": [],
   "source": [
    "# setting dictionary to mapping the user input to the function\n",
    "conversion_features = {\n",
    "    'c': celsius_to_farhenheit,\n",
    "    'f': farhenheit_to_celsius\n",
    "}\n",
    "\n",
    "print(\"Choose the conversion direction.\")\n",
    "print(\"Put C for celsius to fahrenheit or F for farhenheit to celsius.\")\n",
    "\n",
    "choice = input(\"Enter your choice: \").strip().lower()\n",
    "\n",
    "if choice in conversion_features:\n",
    "    temperature = float(input(\"Enter the temperature:\"))\n",
    "    \n",
    "    # conversion\n",
    "    converted_temperature = conversion_features[choice](temperature)\n",
    "    \n",
    "    print(f\"{temperature} degrees {'celsius' if choice =='c' else 'farhenheit'} is {converted_temperature} degrees {'farhenheit' if choice == 'f' else 'celsius'}\")\n",
    "    \n",
    "    else: \n",
    "        print(\"This is not a valid input. Please Enter C or F.\")\n",
    "    "
   ]
  },
  {
   "cell_type": "code",
   "execution_count": null,
   "id": "bfa4cae9",
   "metadata": {},
   "outputs": [],
   "source": []
  }
 ],
 "metadata": {
  "kernelspec": {
   "display_name": "Python 3 (ipykernel)",
   "language": "python",
   "name": "python3"
  },
  "language_info": {
   "codemirror_mode": {
    "name": "ipython",
    "version": 3
   },
   "file_extension": ".py",
   "mimetype": "text/x-python",
   "name": "python",
   "nbconvert_exporter": "python",
   "pygments_lexer": "ipython3",
   "version": "3.11.4"
  }
 },
 "nbformat": 4,
 "nbformat_minor": 5
}
